{
 "cells": [
  {
   "cell_type": "markdown",
   "metadata": {},
   "source": [
    "# Training"
   ]
  },
  {
   "cell_type": "markdown",
   "metadata": {},
   "source": [
    "Select training_env as the kernel (Kernel -> change kernel) . If it is not available, refer to the README.md section Training a model. You will need to install the anaconda environment :  training_env.\n",
    "Change the path in the Notebook.\n",
    "Moreover to check in realtime the evolution of the loss and metrics look at the README.md section detailling the process with Tensorboard. The saved logs will be at the location PATH_THIS_TRAINING+\"logs\"\n"
   ]
  },
  {
   "cell_type": "code",
   "execution_count": null,
   "metadata": {},
   "outputs": [],
   "source": [
    "import sys"
   ]
  },
  {
   "cell_type": "code",
   "execution_count": null,
   "metadata": {},
   "outputs": [],
   "source": [
    "sys.path.append(\"/home/idumeur/code\") # CHANGE\n",
    "sys.path.append(\"/home/idumeur/code/cGAN_sent2_sim/\") #CHANGE"
   ]
  },
  {
   "cell_type": "code",
   "execution_count": null,
   "metadata": {},
   "outputs": [],
   "source": [
    "from utils.load_dataset import load_data\n",
    "from models import clean_gan\n",
    "from train import open_yaml,saving_yaml\n",
    "\n",
    "from tensorflow.python.client import device_lib"
   ]
  },
  {
   "cell_type": "code",
   "execution_count": null,
   "metadata": {},
   "outputs": [],
   "source": [
    "PATH=\"/srv/osirim/idumeur/data/dataset6/prepro1/input_large_dataset/\" #path to the dataset which contains the tile for the training\n",
    "PATH_TRAININGS=\"/srv/osirim/idumeur/trainings/\"\n",
    "NAME_MODEL=\"test_model\" #name of the model\n",
    "TRAINING_NBER=\"100\" #Id of the training, to change\n",
    "PATH_THIS_MODEL=PATH_TRAININGS+NAME_MODEL+\"/\"\n",
    "PATH_THIS_TRAINING=\"{}{}/training_{}/\".format(PATH_TRAININGS,NAME_MODEL,TRAINING_NBER)\n",
    "PATH_CHECKPOINT=\"{}checkpoints/\".format(PATH_THIS_TRAINING)\n",
    "PATH_SAVED_IM=\"{}saved_training_images/\".format(PATH_THIS_TRAINING)\n",
    "PATH_TRAIN_YAML=\"/home/idumeur/code/sent2_cloud_remover/GAN_confs/train.yaml\" #The based configuratiion file for the training param\n",
    "PATH_MODEL_YAML=\"/home/idumeur/code/sent2_cloud_remover/GAN_confs/model.yaml\" #The based configuratiion file for the model param"
   ]
  },
  {
   "cell_type": "code",
   "execution_count": null,
   "metadata": {},
   "outputs": [],
   "source": [
    "train_param=open_yaml(PATH_TRAIN_YAML) #dict\n",
    "model_param=open_yaml(PATH_MODEL_YAML)"
   ]
  },
  {
   "cell_type": "code",
   "execution_count": null,
   "metadata": {},
   "outputs": [],
   "source": [
    "model_param[\"model_name\"]=NAME_MODEL"
   ]
  },
  {
   "cell_type": "markdown",
   "metadata": {},
   "source": [
    "## Discriminator\n",
    "here are the current parameters for the discriminator convolutional layers. You can change them by setting by model_param[\"dict_discri_archi\"]= new_dictionnary. In the dictionnary, keys are the number of the conv layer, and the list corresponds respectively to [\"padding\",\"stride\",\"kernel\",\"nfilter\"]"
   ]
  },
  {
   "cell_type": "code",
   "execution_count": null,
   "metadata": {},
   "outputs": [],
   "source": [
    "model_param[\"dict_discri_archi\"]"
   ]
  },
  {
   "cell_type": "code",
   "execution_count": null,
   "metadata": {},
   "outputs": [],
   "source": [
    "model_param[\"d_last_activ\"] #The last activation of the discriminator"
   ]
  },
  {
   "cell_type": "code",
   "execution_count": null,
   "metadata": {},
   "outputs": [],
   "source": [
    "#Set Training parameters\n",
    "train_param[\"train_directory\"]=PATH+\"train/\" #path to the train data\n",
    "train_param[\"val_directory\"]=PATH+\"val/\" #path to the val data\n",
    "train_param[\"training_number\"]=TRAINING_NBER #id of the training\n",
    "train_param[\"epoch\"]=500 #max nber of epochs\n",
    "train_param[\"lr\"]=0.001"
   ]
  },
  {
   "cell_type": "code",
   "execution_count": null,
   "metadata": {},
   "outputs": [],
   "source": [
    "train_param[\"normalization\"]=True #id set to true normalization to the data is applied"
   ]
  },
  {
   "cell_type": "code",
   "execution_count": null,
   "metadata": {},
   "outputs": [],
   "source": [
    "train_param[\"lim_train_tile\"]=496"
   ]
  },
  {
   "cell_type": "code",
   "execution_count": null,
   "metadata": {},
   "outputs": [],
   "source": [
    "#load data and model \n",
    "gan=clean_gan.GAN(model_param, train_param)"
   ]
  },
  {
   "cell_type": "code",
   "execution_count": null,
   "metadata": {},
   "outputs": [],
   "source": [
    "#check available ressources\n",
    "\n",
    "print(device_lib.list_local_devices())"
   ]
  },
  {
   "cell_type": "code",
   "execution_count": null,
   "metadata": {},
   "outputs": [],
   "source": [
    "#Start the training\n",
    "model_dir = gan.model_dir\n",
    "training_dir = gan.this_training_dir\n",
    "#saving_yaml(path_model, model_dir)\n",
    "#saving_yaml(path_train, training_dir)\n",
    "gan.train()"
   ]
  },
  {
   "cell_type": "code",
   "execution_count": null,
   "metadata": {},
   "outputs": [],
   "source": []
  },
  {
   "cell_type": "code",
   "execution_count": null,
   "metadata": {},
   "outputs": [],
   "source": []
  },
  {
   "cell_type": "code",
   "execution_count": null,
   "metadata": {},
   "outputs": [],
   "source": []
  }
 ],
 "metadata": {
  "kernelspec": {
   "display_name": "training_env",
   "language": "python",
   "name": "training_env"
  },
  "language_info": {
   "codemirror_mode": {
    "name": "ipython",
    "version": 3
   },
   "file_extension": ".py",
   "mimetype": "text/x-python",
   "name": "python",
   "nbconvert_exporter": "python",
   "pygments_lexer": "ipython3",
   "version": "3.6.11"
  }
 },
 "nbformat": 4,
 "nbformat_minor": 2
}
