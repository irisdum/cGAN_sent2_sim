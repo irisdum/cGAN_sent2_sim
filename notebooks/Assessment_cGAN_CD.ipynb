{
 "cells": [
  {
   "cell_type": "code",
   "execution_count": null,
   "metadata": {},
   "outputs": [],
   "source": [
    "import sys\n",
    "sys.path.append(\"/home/idumeur/code\") #To modify\n",
    "sys.path.append(\"/home/idumeur/code/cGAN_sent2_sim/\") #to Modify"
   ]
  },
  {
   "cell_type": "code",
   "execution_count": null,
   "metadata": {},
   "outputs": [],
   "source": [
    "import utils.display_image as d\n",
    "import pandas as pd\n",
    "from utils.load_dataset import load_data,load_from_dir\n",
    "from utils.display_image import one_band_hist,plot_one_band,display_final_tile\n",
    "import matplotlib.pyplot as plt\n",
    "from utils.image_find_tbx import find_image_indir\n",
    "import numpy as np\n",
    "from change_detection.detection import ACP_on_batch\n",
    "from change_detection.display_detection import display_detection\n",
    "from utils.normalize import load_dict_scaler,rescale_array\n",
    "from utils.metrics import compute_metric\n",
    "import os"
   ]
  },
  {
   "cell_type": "code",
   "execution_count": null,
   "metadata": {},
   "outputs": [],
   "source": [
    "# ADAPT GIVEN YOUR OWN FILE HIERARCHY\n",
    "# To run this script you have run a prediction for a trained model beforehand.\n",
    "GLOBAL_PATH=\"/srv/osirim/idumeur/data/dataset6/prepro1/input_large_dataset/\"\n",
    "PATH=os.path.join(GLOBAL_PATH,\"train/\")\n",
    "PATH_TEST=os.path.join(GLOBAL_PATH,\"test/\")\n",
    "PATH_SAVE=\"/srv/osirim/idumeur/data/dataset6/prepro1/input_large_dataset/train_change_detection3/\" #path where information for change detection model : EVS + kmeans model\n",
    "NB_BAND_X=8\n",
    "NB_BAND_LABEL=4\n",
    "PATH_DIR=PATH+\"dataX/\"\n",
    "PATH_TRAININGS=\"/srv/osirim/idumeur/trainings/\" \n",
    "NAME_MODEL=\"new_model_corr\" #name of the model\n",
    "TRAINING_NBER=\"42\" #index of the training from which you want to load the prediction\n",
    "\n",
    "PATH_THIS_MODEL=PATH_TRAININGS+NAME_MODEL+\"/\" \n",
    "PATH_THIS_TRAINING=\"{}{}/training_{}/\".format(PATH_TRAININGS,NAME_MODEL,TRAINING_NBER) #path to the directory which contains checkpoints directory\n",
    "PATH_SCALER=PATH_THIS_TRAINING+\"scaler/\"\n",
    "PATH_PRED=\"{}image_test_iter_690/\".format(PATH_THIS_TRAINING) #Path where predicted image are saved. (Check predict methods)\n",
    "PATH_CHECKPOINT=\"{}checkpoints/\".format(PATH_THIS_TRAINING)\n",
    "PATH_SAVED_IM=\"{}saved_training_images/\".format(PATH_THIS_TRAINING)\n",
    "\n",
    "## PARAMETERS FOR DATA (not recommended to change)\n",
    "DICT_GROUP_BAND_LABEL={\"R,G,B\":[0,1,2],\"NIR\":[3]}\n",
    "DICT_GROUP_BAND_X={\"VV\":[0,2],\"VH\":[1,3],\"R,G,B\":[4,5,6],\"NIR\":[7]}\n",
    "S2_BANDS=['R,G,B', 'NIR']\n",
    "S1_BANDS=['VV', 'VH']\n",
    "FACT_STD_S2=1/7 \n",
    "FACT_STD_S1=1/5\n",
    "MAX_DISPLAY=1\n",
    "DICT_RESCALE_TYPE={\"VV\": \"StandardScaler\", \"VH\":\"StandardScaler\",\"R,G,B\":\"StandardScaler\",\"NIR\":\"StandardScaler\"}"
   ]
  },
  {
   "cell_type": "code",
   "execution_count": null,
   "metadata": {},
   "outputs": [],
   "source": [
    "# If not done before : run the change detection method on the train dataset\n",
    "data_X_train,data_y_train,l_dict_train=load_data(PATH, x_shape=(256,256,NB_BAND_X), label_shape=(256,256,NB_BAND_LABEL), normalization=False,dict_band_X=None,dict_band_label=None,dict_rescale_type=None,lim=None)\n",
    "r_d0_val=data_X_train[:,:,:,[4]]\n",
    "r_d1_val=data_y_train[:,:,:,[0]]\n",
    "dic_band_name={\"red\":[[4],[0]],\"green\":[[5],[1]],\"blue\":[[6],[2]],\"nir\":[[7],[3]]}\n",
    "for band_name in dic_band_name:\n",
    "    print(\"ACP on {}\".format(band_name))\n",
    "    _,_, _=ACP_on_batch(data_X_train[:,:,:,dic_band_name[band_name][0]],data_y_train[:,:,:,dic_band_name[band_name][1]], kernel_dim=4, n_components=3, k=2, padding=\"symmetric\",band=None,path_save=PATH_SAVE,load_dir=None,band_name=band_name)\n",
    "    "
   ]
  },
  {
   "cell_type": "markdown",
   "metadata": {},
   "source": [
    "# GROUND TRUTH DATA\n",
    "The EVS and k_means algorithm for each band were saved in PATH_SAVE.Thus we load the change map on the validation batch for each bands.\n",
    "If you haven't run the change detection on the training dataset please do it first (cell 4). Then, run the change detection method loading the change detection algorithm using load_dir. "
   ]
  },
  {
   "cell_type": "code",
   "execution_count": null,
   "metadata": {},
   "outputs": [],
   "source": [
    "#load the raw data\n",
    "data_X_val,data_y_val,l_dict_val=load_data(PATH_TEST, x_shape=(256,256,NB_BAND_X), label_shape=(256,256,NB_BAND_LABEL), normalization=False,dict_band_X=None,dict_band_label=None,dict_rescale_type=None,lim=None)"
   ]
  },
  {
   "cell_type": "code",
   "execution_count": null,
   "metadata": {},
   "outputs": [],
   "source": [
    "r_d0_val=data_X_val[:,:,:,[4]]\n",
    "r_d1_val=data_y_val[:,:,:,[0]]\n",
    "_,change_map_val_r, batch_clean_change_map_val_r=ACP_on_batch(r_d0_val,r_d1_val, kernel_dim=4, n_components=3, k=2, padding=\"symmetric\",band=None,path_save=None,load_dir=PATH_SAVE,band_name=\"red\")"
   ]
  },
  {
   "cell_type": "code",
   "execution_count": null,
   "metadata": {},
   "outputs": [],
   "source": [
    "r_d0=data_X_val[:,:,:,[5]]\n",
    "r_d1=data_y_val[:,:,:,[1]]\n",
    "_,change_map_val_g, batch_clean_change_map_val_g=ACP_on_batch(r_d0,r_d1, kernel_dim=4, n_components=3, k=2, padding=\"symmetric\",band=None,path_save=None,load_dir=PATH_SAVE,band_name=\"green\")"
   ]
  },
  {
   "cell_type": "code",
   "execution_count": null,
   "metadata": {},
   "outputs": [],
   "source": [
    "r_d0=data_X_val[:,:,:,[6]]\n",
    "r_d1=data_y_val[:,:,:,[2]]\n",
    "_,change_map_val_b, batch_clean_change_map_val_b=ACP_on_batch(r_d0,r_d1, kernel_dim=4, n_components=3, k=2, padding=\"symmetric\",band=None,path_save=None,load_dir=PATH_SAVE,band_name=\"blue\")"
   ]
  },
  {
   "cell_type": "code",
   "execution_count": null,
   "metadata": {},
   "outputs": [],
   "source": [
    "r_d0=data_X_val[:,:,:,[7]]\n",
    "r_d1=data_y_val[:,:,:,[3]]\n",
    "_,change_map_val_nir, batch_clean_change_map_val_nir=ACP_on_batch(r_d0,r_d1, kernel_dim=4, n_components=3, k=2, padding=\"symmetric\",band=None,path_save=None,load_dir=PATH_SAVE,band_name=\"nir\")"
   ]
  },
  {
   "cell_type": "markdown",
   "metadata": {},
   "source": [
    "# Simulated image"
   ]
  },
  {
   "cell_type": "code",
   "execution_count": null,
   "metadata": {},
   "outputs": [],
   "source": [
    "dict_scaler=load_dict_scaler(input_dir=PATH_SCALER,l_band_group=S2_BANDS+S1_BANDS)"
   ]
  },
  {
   "cell_type": "markdown",
   "metadata": {},
   "source": [
    "dict_scaler contains the scaler method used on the train data. It has been saved during the training. It will be used to unscaled the ouptut tiles predicted by the generator"
   ]
  },
  {
   "cell_type": "code",
   "execution_count": null,
   "metadata": {},
   "outputs": [],
   "source": [
    "#load the data\n",
    "pred_batch=np.zeros(data_y_val.shape)\n",
    "pred_batch.shape\n",
    "batch_pred,l_final_tiles,_=load_from_dir(PATH_PRED,(256,256,4),lim=496)# a list of path of the images\n",
    "max_im=len(l_final_tiles)\n",
    "print(batch_pred.shape)"
   ]
  },
  {
   "cell_type": "code",
   "execution_count": null,
   "metadata": {},
   "outputs": [],
   "source": [
    "#We unscale the predicted tiles\n",
    "_, pred_batch_unscale, _=rescale_array(data_X_val, batch_pred, dict_group_band_X=DICT_GROUP_BAND_X, dict_group_band_label=DICT_GROUP_BAND_LABEL,\n",
    "                  dict_rescale_type=DICT_RESCALE_TYPE, s1_log=True, dict_scale=dict_scaler, invert=True, s2_bands=S2_BANDS,\n",
    "                  s1_bands=S1_BANDS, fact_scale2=FACT_STD_S2, fact_scale1=FACT_STD_S1, clip_s2=True)"
   ]
  },
  {
   "cell_type": "markdown",
   "metadata": {},
   "source": [
    "# Global metrics\n",
    "We compute PSNR, SSIM and SAM bewteen the predicted batch and the ground truth batch."
   ]
  },
  {
   "cell_type": "code",
   "execution_count": null,
   "metadata": {},
   "outputs": [],
   "source": [
    "from skimage.measure import compare_ssim as ssim\n",
    "from utils.metrics import calculate_psnr\n",
    "metric_name=[\"psnr\",\"nchangedpix\",\"mse\"]\n",
    "\n",
    "def compute_metrics(vector1,vector2,metrics=None):\n",
    "    if metrics is None:\n",
    "        metrics=metric_name\n",
    "    #print(vector1.shape)\n",
    "    #print(vector2.shape)\n",
    "    psnr=calculate_psnr(vector1,vector2, max_value=1.27) #we divide its value by the nber of pixels\n",
    "    mse=np.mean((np.array(vector1, dtype=np.float32) - np.array(vector2, dtype=np.float32)) ** 2)\n",
    "    #sim_val=ssim(vector1.ravel(),vector2.ravel())\n",
    "    dict_metric=dict(zip(metrics,[psnr,vector1.shape[0],mse]))\n",
    "    print(dict_metric)\n",
    "    return dict_metric"
   ]
  },
  {
   "cell_type": "code",
   "execution_count": null,
   "metadata": {},
   "outputs": [],
   "source": [
    "_, metric_val=compute_metric(pred_batch_unscale,data_y_val,compute_sam=True,max_value=1.27)"
   ]
  },
  {
   "cell_type": "code",
   "execution_count": null,
   "metadata": {},
   "outputs": [],
   "source": [
    "print(dict(zip([\"psnr\",\"sim\",\"sam\"],metric_val)))"
   ]
  },
  {
   "cell_type": "code",
   "execution_count": null,
   "metadata": {},
   "outputs": [],
   "source": [
    "df=pd.DataFrame(columns=metric_name)\n",
    "bands_name=[\"Red\",\"Green\",\"Blue\",\"NIR\"]\n",
    "for i in range(4):\n",
    "        cp_batch_gt=data_y_val[:,:,:,[i]][l_clean_cm[i]>=0]\n",
    "        cp_batch_gt_d0=data_X_val[:,:,:,[i+3]][l_clean_cm[i]>=0]\n",
    "        cp_batch_sim=pred_batch_unscale[:,:,:,[i]][l_clean_cm[i]>=0]\n",
    "        dict_metric=compute_metrics(cp_batch_sim,cp_batch_gt)\n",
    "        dict_metric2=compute_metrics(cp_batch_gt_d0,cp_batch_gt)\n",
    "        #dict_metric=dict(zip(metric_name,metric_val))\n",
    "        dict_metric.update({\"band\":format(bands_name[i]),\"type\":\"gt vs simulated\"})\n",
    "        dict_metric2.update({\"band\":format(bands_name[i]),\"type\":\"gt day 0 vs day 1\"})\n",
    "        df=df.append(dict_metric,ignore_index=True)\n",
    "        df=df.append(dict_metric2,ignore_index=True)\n"
   ]
  },
  {
   "cell_type": "code",
   "execution_count": null,
   "metadata": {},
   "outputs": [],
   "source": [
    "df.columns #index 0 stands for band red, 1 band green, 2 band blue 3 band nir.\n",
    "df.set_index([\"band\",\"type\"])"
   ]
  },
  {
   "cell_type": "markdown",
   "metadata": {},
   "source": [
    "# Metric on changed pixels"
   ]
  },
  {
   "cell_type": "code",
   "execution_count": null,
   "metadata": {},
   "outputs": [],
   "source": [
    "df=pd.DataFrame(columns=metric_name)\n",
    "bands_name=[\"Red\",\"Green\",\"Blue\",\"NIR\"]\n",
    "metric_name=[\"psnr\",\"nchangedpix\",\"mse\"]\n",
    "for i in range(4):\n",
    "        cp_batch_gt=data_y_val[:,:,:,[i]][l_clean_cm[i]==255]\n",
    "        cp_batch_gt_d0=data_X_val[:,:,:,[i+3]][l_clean_cm[i]==255]\n",
    "        cp_batch_sim=pred_batch_unscale[:,:,:,[i]][l_clean_cm[i]==255]\n",
    "        dict_metric=compute_metrics(cp_batch_sim,cp_batch_gt)\n",
    "        dict_metric2=compute_metrics(cp_batch_gt_d0,cp_batch_gt)\n",
    "        #dict_metric=dict(zip(metric_name,metric_val))\n",
    "        dict_metric.update({\"band\":format(bands_name[i]),\"type\":\"gt vs simulated\"})\n",
    "        dict_metric2.update({\"band\":format(bands_name[i]),\"type\":\"gt day 0 vs day 1\"})\n",
    "        df=df.append(dict_metric,ignore_index=True)\n",
    "        df=df.append(dict_metric2,ignore_index=True)\n"
   ]
  },
  {
   "cell_type": "code",
   "execution_count": null,
   "metadata": {},
   "outputs": [],
   "source": [
    "df.columns #index 0 stands for band red, 1 band green, 2 band blue 3 band nir.\n",
    "df.set_index([\"band\",\"type\"])"
   ]
  },
  {
   "cell_type": "markdown",
   "metadata": {},
   "source": [
    "# Metrics on unchanged pixels"
   ]
  },
  {
   "cell_type": "code",
   "execution_count": null,
   "metadata": {},
   "outputs": [],
   "source": [
    "# Metrics on unchanged pixels\n",
    "df_uncp=pd.DataFrame(columns=[\"psnr\",\"nunchangedpix\",\"mse\"])\n",
    "bands_name=[\"Red\",\"Green\",\"Blue\",\"NIR\"]\n",
    "for i in range(4):\n",
    "        cp_batch_gt=data_y_val[:,:,:,[i]][l_clean_cm[i]==0]\n",
    "        cp_batch_gt_d0=data_X_val[:,:,:,[i+3]][l_clean_cm[i]==0]\n",
    "        cp_batch_sim=pred_batch_unscale[:,:,:,[i]][l_clean_cm[i]==0]\n",
    "        dict_metric=compute_metrics(cp_batch_sim,cp_batch_gt,metrics=[\"psnr\",\"nunchangedpix\",\"mse\"])\n",
    "        dict_metric2=compute_metrics(cp_batch_gt_d0,cp_batch_gt,metrics=[\"psnr\",\"nunchangedpix\",\"mse\"])\n",
    "        #dict_metric=dict(zip(metric_name,metric_val))\n",
    "        dict_metric.update({\"band\":format(bands_name[i]),\"type\":\"gt vs simulated\"})\n",
    "        dict_metric2.update({\"band\":format(bands_name[i]),\"type\":\"gt day 0 vs day 1\"})\n",
    "        df_uncp=df_uncp.append(dict_metric,ignore_index=True)\n",
    "        df_uncp=df_uncp.append(dict_metric2,ignore_index=True)\n"
   ]
  },
  {
   "cell_type": "code",
   "execution_count": null,
   "metadata": {},
   "outputs": [],
   "source": [
    "df_uncp.columns #index 0 stands for band red, 1 band green, 2 band blue 3 band nir.\n",
    "df_uncp.set_index([\"band\",\"type\"])"
   ]
  },
  {
   "cell_type": "code",
   "execution_count": null,
   "metadata": {},
   "outputs": [],
   "source": [
    "print(np.max(data_y_val[0,0,0,0]))"
   ]
  },
  {
   "cell_type": "code",
   "execution_count": null,
   "metadata": {},
   "outputs": [],
   "source": []
  }
 ],
 "metadata": {
  "kernelspec": {
   "display_name": "training_env",
   "language": "python",
   "name": "training_env"
  },
  "language_info": {
   "codemirror_mode": {
    "name": "ipython",
    "version": 3
   },
   "file_extension": ".py",
   "mimetype": "text/x-python",
   "name": "python",
   "nbconvert_exporter": "python",
   "pygments_lexer": "ipython3",
   "version": "3.6.11"
  }
 },
 "nbformat": 4,
 "nbformat_minor": 4
}
